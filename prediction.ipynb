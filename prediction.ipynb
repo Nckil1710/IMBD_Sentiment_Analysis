{
 "cells": [
  {
   "cell_type": "code",
   "execution_count": 8,
   "metadata": {},
   "outputs": [],
   "source": [
    "# Step 1: Import Libraries and Load the Model\n",
    "import numpy as np\n",
    "import tensorflow as tf\n",
    "from tensorflow.keras.datasets import imdb\n",
    "from tensorflow.keras.preprocessing import sequence\n",
    "from tensorflow.keras.models import load_model"
   ]
  },
  {
   "cell_type": "code",
   "execution_count": 17,
   "metadata": {},
   "outputs": [],
   "source": [
    "\n",
    "# Load the IMDB dataset word index\n",
    "word_index = imdb.get_word_index()\n",
    "reverse_word_index = {value: key for key, value in word_index.items()}"
   ]
  },
  {
   "cell_type": "code",
   "execution_count": 18,
   "metadata": {},
   "outputs": [
    {
     "name": "stderr",
     "output_type": "stream",
     "text": [
      "WARNING:absl:Compiled the loaded model, but the compiled metrics have yet to be built. `model.compile_metrics` will be empty until you train or evaluate the model.\n"
     ]
    },
    {
     "data": {
      "text/html": [
       "<pre style=\"white-space:pre;overflow-x:auto;line-height:normal;font-family:Menlo,'DejaVu Sans Mono',consolas,'Courier New',monospace\"><span style=\"font-weight: bold\">Model: \"sequential_2\"</span>\n",
       "</pre>\n"
      ],
      "text/plain": [
       "\u001b[1mModel: \"sequential_2\"\u001b[0m\n"
      ]
     },
     "metadata": {},
     "output_type": "display_data"
    },
    {
     "data": {
      "text/html": [
       "<pre style=\"white-space:pre;overflow-x:auto;line-height:normal;font-family:Menlo,'DejaVu Sans Mono',consolas,'Courier New',monospace\">┏━━━━━━━━━━━━━━━━━━━━━━━━━━━━━━━━━┳━━━━━━━━━━━━━━━━━━━━━━━━┳━━━━━━━━━━━━━━━┓\n",
       "┃<span style=\"font-weight: bold\"> Layer (type)                    </span>┃<span style=\"font-weight: bold\"> Output Shape           </span>┃<span style=\"font-weight: bold\">       Param # </span>┃\n",
       "┡━━━━━━━━━━━━━━━━━━━━━━━━━━━━━━━━━╇━━━━━━━━━━━━━━━━━━━━━━━━╇━━━━━━━━━━━━━━━┩\n",
       "│ embedding_2 (<span style=\"color: #0087ff; text-decoration-color: #0087ff\">Embedding</span>)         │ (<span style=\"color: #00d7ff; text-decoration-color: #00d7ff\">None</span>, <span style=\"color: #00af00; text-decoration-color: #00af00\">500</span>, <span style=\"color: #00af00; text-decoration-color: #00af00\">128</span>)       │     <span style=\"color: #00af00; text-decoration-color: #00af00\">1,280,000</span> │\n",
       "├─────────────────────────────────┼────────────────────────┼───────────────┤\n",
       "│ simple_rnn_2 (<span style=\"color: #0087ff; text-decoration-color: #0087ff\">SimpleRNN</span>)        │ (<span style=\"color: #00d7ff; text-decoration-color: #00d7ff\">None</span>, <span style=\"color: #00af00; text-decoration-color: #00af00\">128</span>)            │        <span style=\"color: #00af00; text-decoration-color: #00af00\">32,896</span> │\n",
       "├─────────────────────────────────┼────────────────────────┼───────────────┤\n",
       "│ dense_2 (<span style=\"color: #0087ff; text-decoration-color: #0087ff\">Dense</span>)                 │ (<span style=\"color: #00d7ff; text-decoration-color: #00d7ff\">None</span>, <span style=\"color: #00af00; text-decoration-color: #00af00\">1</span>)              │           <span style=\"color: #00af00; text-decoration-color: #00af00\">129</span> │\n",
       "└─────────────────────────────────┴────────────────────────┴───────────────┘\n",
       "</pre>\n"
      ],
      "text/plain": [
       "┏━━━━━━━━━━━━━━━━━━━━━━━━━━━━━━━━━┳━━━━━━━━━━━━━━━━━━━━━━━━┳━━━━━━━━━━━━━━━┓\n",
       "┃\u001b[1m \u001b[0m\u001b[1mLayer (type)                   \u001b[0m\u001b[1m \u001b[0m┃\u001b[1m \u001b[0m\u001b[1mOutput Shape          \u001b[0m\u001b[1m \u001b[0m┃\u001b[1m \u001b[0m\u001b[1m      Param #\u001b[0m\u001b[1m \u001b[0m┃\n",
       "┡━━━━━━━━━━━━━━━━━━━━━━━━━━━━━━━━━╇━━━━━━━━━━━━━━━━━━━━━━━━╇━━━━━━━━━━━━━━━┩\n",
       "│ embedding_2 (\u001b[38;5;33mEmbedding\u001b[0m)         │ (\u001b[38;5;45mNone\u001b[0m, \u001b[38;5;34m500\u001b[0m, \u001b[38;5;34m128\u001b[0m)       │     \u001b[38;5;34m1,280,000\u001b[0m │\n",
       "├─────────────────────────────────┼────────────────────────┼───────────────┤\n",
       "│ simple_rnn_2 (\u001b[38;5;33mSimpleRNN\u001b[0m)        │ (\u001b[38;5;45mNone\u001b[0m, \u001b[38;5;34m128\u001b[0m)            │        \u001b[38;5;34m32,896\u001b[0m │\n",
       "├─────────────────────────────────┼────────────────────────┼───────────────┤\n",
       "│ dense_2 (\u001b[38;5;33mDense\u001b[0m)                 │ (\u001b[38;5;45mNone\u001b[0m, \u001b[38;5;34m1\u001b[0m)              │           \u001b[38;5;34m129\u001b[0m │\n",
       "└─────────────────────────────────┴────────────────────────┴───────────────┘\n"
      ]
     },
     "metadata": {},
     "output_type": "display_data"
    },
    {
     "data": {
      "text/html": [
       "<pre style=\"white-space:pre;overflow-x:auto;line-height:normal;font-family:Menlo,'DejaVu Sans Mono',consolas,'Courier New',monospace\"><span style=\"font-weight: bold\"> Total params: </span><span style=\"color: #00af00; text-decoration-color: #00af00\">1,313,027</span> (5.01 MB)\n",
       "</pre>\n"
      ],
      "text/plain": [
       "\u001b[1m Total params: \u001b[0m\u001b[38;5;34m1,313,027\u001b[0m (5.01 MB)\n"
      ]
     },
     "metadata": {},
     "output_type": "display_data"
    },
    {
     "data": {
      "text/html": [
       "<pre style=\"white-space:pre;overflow-x:auto;line-height:normal;font-family:Menlo,'DejaVu Sans Mono',consolas,'Courier New',monospace\"><span style=\"font-weight: bold\"> Trainable params: </span><span style=\"color: #00af00; text-decoration-color: #00af00\">1,313,025</span> (5.01 MB)\n",
       "</pre>\n"
      ],
      "text/plain": [
       "\u001b[1m Trainable params: \u001b[0m\u001b[38;5;34m1,313,025\u001b[0m (5.01 MB)\n"
      ]
     },
     "metadata": {},
     "output_type": "display_data"
    },
    {
     "data": {
      "text/html": [
       "<pre style=\"white-space:pre;overflow-x:auto;line-height:normal;font-family:Menlo,'DejaVu Sans Mono',consolas,'Courier New',monospace\"><span style=\"font-weight: bold\"> Non-trainable params: </span><span style=\"color: #00af00; text-decoration-color: #00af00\">0</span> (0.00 B)\n",
       "</pre>\n"
      ],
      "text/plain": [
       "\u001b[1m Non-trainable params: \u001b[0m\u001b[38;5;34m0\u001b[0m (0.00 B)\n"
      ]
     },
     "metadata": {},
     "output_type": "display_data"
    },
    {
     "data": {
      "text/html": [
       "<pre style=\"white-space:pre;overflow-x:auto;line-height:normal;font-family:Menlo,'DejaVu Sans Mono',consolas,'Courier New',monospace\"><span style=\"font-weight: bold\"> Optimizer params: </span><span style=\"color: #00af00; text-decoration-color: #00af00\">2</span> (12.00 B)\n",
       "</pre>\n"
      ],
      "text/plain": [
       "\u001b[1m Optimizer params: \u001b[0m\u001b[38;5;34m2\u001b[0m (12.00 B)\n"
      ]
     },
     "metadata": {},
     "output_type": "display_data"
    }
   ],
   "source": [
    "# Load the pre-trained model with ReLU activation\n",
    "model = load_model('simple_rnn_imdb.h5')\n",
    "model.summary()"
   ]
  },
  {
   "cell_type": "code",
   "execution_count": 19,
   "metadata": {},
   "outputs": [
    {
     "data": {
      "text/plain": [
       "[array([[-0.24478167,  0.2882122 , -0.3584782 , ..., -0.69255173,\n",
       "         -0.16835314, -0.6837558 ],\n",
       "        [ 0.05276396,  0.1811165 , -0.01702545, ...,  0.01762097,\n",
       "          0.14373916, -0.13265784],\n",
       "        [ 0.037869  ,  0.07384492,  0.06234463, ...,  0.10905061,\n",
       "          0.11959658, -0.08678021],\n",
       "        ...,\n",
       "        [-0.00285445, -0.06136831,  0.00921424, ..., -0.06350445,\n",
       "         -0.03899935, -0.01270625],\n",
       "        [ 0.0516398 , -0.02060243, -0.01438102, ..., -0.04200844,\n",
       "         -0.04553207, -0.06572926],\n",
       "        [-0.09573281, -0.08679233, -0.14202636, ...,  0.1107847 ,\n",
       "         -0.05045838,  0.15847202]], dtype=float32),\n",
       " array([[-0.13947399,  0.13038693,  0.11085992, ..., -0.0030973 ,\n",
       "          0.12425736,  0.04059688],\n",
       "        [-0.10116373, -0.03842703, -0.04841776, ..., -0.00159228,\n",
       "         -0.15762246, -0.15947822],\n",
       "        [ 0.01569851, -0.02912905, -0.04824328, ..., -0.01320536,\n",
       "          0.05279472, -0.05326338],\n",
       "        ...,\n",
       "        [-0.11964634,  0.15605447, -0.15413542, ..., -0.10164884,\n",
       "         -0.09910086, -0.10874536],\n",
       "        [ 0.07297959,  0.06184158, -0.01773452, ...,  0.02205483,\n",
       "         -0.21651757, -0.1775702 ],\n",
       "        [-0.06196602,  0.05930708, -0.10494442, ..., -0.02934926,\n",
       "         -0.08838614,  0.08858702]], dtype=float32),\n",
       " array([[ 0.15111078, -0.1138589 ,  0.16673215, ...,  0.09317025,\n",
       "          0.04348711, -0.01723362],\n",
       "        [-0.03241565, -0.05124563,  0.04346159, ...,  0.04605786,\n",
       "          0.06025658, -0.05110745],\n",
       "        [-0.12788956,  0.0163534 , -0.09503163, ...,  0.03904764,\n",
       "         -0.01836208, -0.08253068],\n",
       "        ...,\n",
       "        [-0.11241729, -0.06150434,  0.0563421 , ...,  0.00161676,\n",
       "         -0.0995017 ,  0.06728829],\n",
       "        [-0.18632992,  0.0001974 , -0.16977024, ...,  0.16706046,\n",
       "          0.10689149, -0.13046335],\n",
       "        [-0.0458255 ,  0.01623224,  0.19581653, ..., -0.19402061,\n",
       "          0.02265017, -0.08014351]], dtype=float32),\n",
       " array([-0.05530703, -0.02509727,  0.00673354,  0.03649327,  0.02361666,\n",
       "         0.05665158, -0.02631497,  0.06194364, -0.06086967, -0.04685471,\n",
       "        -0.01756234, -0.04845694,  0.01404493,  0.0117455 ,  0.02916794,\n",
       "         0.07039218,  0.04156434, -0.00710046,  0.03346241, -0.05171563,\n",
       "        -0.04256691,  0.05453903, -0.0131104 , -0.00337816, -0.00208323,\n",
       "        -0.03098876,  0.00964916, -0.03151157, -0.02429803,  0.00476818,\n",
       "        -0.04133424, -0.02545251, -0.02218585,  0.06330171, -0.04880008,\n",
       "         0.01703869, -0.03698927, -0.0094512 , -0.01197941, -0.03631062,\n",
       "        -0.02049911, -0.00652281, -0.06097994,  0.03043847,  0.02547353,\n",
       "         0.04570695, -0.03904588,  0.04463097, -0.06948858, -0.02081322,\n",
       "        -0.05042043,  0.0239066 , -0.02855223,  0.03204482, -0.00986347,\n",
       "         0.00463059, -0.04964484,  0.00871462,  0.00268961, -0.03397816,\n",
       "         0.00109166, -0.02212151,  0.03883952,  0.03324983, -0.04311214,\n",
       "        -0.04428522,  0.0346739 , -0.01970434,  0.0290284 , -0.03653542,\n",
       "        -0.02267277, -0.0173473 , -0.01393905, -0.04389112, -0.03160195,\n",
       "         0.04328625, -0.04029569,  0.04037721,  0.03427712, -0.0112564 ,\n",
       "        -0.04893047, -0.01148874, -0.04860014, -0.02121949, -0.00705846,\n",
       "        -0.00439849, -0.03451853,  0.01084296,  0.00993634, -0.03990077,\n",
       "         0.04781866, -0.05239556, -0.00847555,  0.03460223, -0.0062748 ,\n",
       "         0.02027934, -0.05240895, -0.0361965 , -0.00563526, -0.02823635,\n",
       "         0.06728773,  0.03896907,  0.01700393,  0.07192533, -0.01295594,\n",
       "         0.05245289, -0.034952  ,  0.00253043, -0.04487406,  0.00117868,\n",
       "        -0.0008419 , -0.04339463, -0.01157941,  0.00149102, -0.00996048,\n",
       "         0.05100057,  0.02732247,  0.00350657, -0.00108578,  0.04286768,\n",
       "        -0.0541646 , -0.05647566, -0.00963991, -0.05613468, -0.05186108,\n",
       "         0.02868898, -0.034034  , -0.02327921], dtype=float32),\n",
       " array([[ 0.08515242],\n",
       "        [ 0.02720344],\n",
       "        [ 0.07593398],\n",
       "        [-0.05459762],\n",
       "        [ 0.17469351],\n",
       "        [-0.20676003],\n",
       "        [-0.08591367],\n",
       "        [-0.09614521],\n",
       "        [-0.00505662],\n",
       "        [ 0.0696836 ],\n",
       "        [ 0.2872348 ],\n",
       "        [-0.02725701],\n",
       "        [-0.10393017],\n",
       "        [ 0.06245067],\n",
       "        [ 0.36226958],\n",
       "        [ 0.17404859],\n",
       "        [-0.18790497],\n",
       "        [-0.24872084],\n",
       "        [ 0.19369176],\n",
       "        [ 0.20054281],\n",
       "        [ 0.32029182],\n",
       "        [-0.20997918],\n",
       "        [ 0.13272938],\n",
       "        [ 0.5213958 ],\n",
       "        [ 0.00485286],\n",
       "        [-0.30079013],\n",
       "        [ 0.12702027],\n",
       "        [ 0.18157831],\n",
       "        [ 0.17576198],\n",
       "        [ 0.06719908],\n",
       "        [-0.23462889],\n",
       "        [ 0.22618599],\n",
       "        [-0.0050577 ],\n",
       "        [ 0.12923126],\n",
       "        [-0.2573784 ],\n",
       "        [-0.25587457],\n",
       "        [ 0.07520486],\n",
       "        [-0.00158844],\n",
       "        [-0.08936886],\n",
       "        [ 0.01751106],\n",
       "        [-0.15387335],\n",
       "        [-0.15284698],\n",
       "        [ 0.01839659],\n",
       "        [ 0.28486246],\n",
       "        [ 0.39165542],\n",
       "        [-0.04940547],\n",
       "        [ 0.0981783 ],\n",
       "        [-0.02717275],\n",
       "        [-0.15152922],\n",
       "        [-0.04962175],\n",
       "        [ 0.03338484],\n",
       "        [-0.24596581],\n",
       "        [ 0.33319673],\n",
       "        [ 0.3557119 ],\n",
       "        [-0.1169491 ],\n",
       "        [-0.05887385],\n",
       "        [ 0.13875751],\n",
       "        [ 0.03421784],\n",
       "        [-0.21905391],\n",
       "        [-0.14833999],\n",
       "        [ 0.20609513],\n",
       "        [ 0.3229274 ],\n",
       "        [ 0.11593124],\n",
       "        [-0.07301229],\n",
       "        [ 0.26195505],\n",
       "        [ 0.22792813],\n",
       "        [-0.05987292],\n",
       "        [ 0.525787  ],\n",
       "        [-0.08723082],\n",
       "        [ 0.15835959],\n",
       "        [ 0.25254428],\n",
       "        [ 0.08116725],\n",
       "        [-0.1968988 ],\n",
       "        [ 0.18915957],\n",
       "        [ 0.00190458],\n",
       "        [-0.19929035],\n",
       "        [-0.23475696],\n",
       "        [ 0.09301441],\n",
       "        [ 0.24431981],\n",
       "        [-0.10416079],\n",
       "        [ 0.10536998],\n",
       "        [ 0.17352793],\n",
       "        [-0.00148181],\n",
       "        [-0.26600617],\n",
       "        [ 0.15839824],\n",
       "        [-0.09223513],\n",
       "        [ 0.18147595],\n",
       "        [-0.31061795],\n",
       "        [-0.00256744],\n",
       "        [ 0.2807985 ],\n",
       "        [-0.11603333],\n",
       "        [ 0.05130305],\n",
       "        [-0.30761936],\n",
       "        [-0.2368913 ],\n",
       "        [ 0.02382515],\n",
       "        [-0.12354951],\n",
       "        [-0.06653097],\n",
       "        [-0.04989622],\n",
       "        [-0.2321867 ],\n",
       "        [ 0.11043782],\n",
       "        [-0.10993421],\n",
       "        [ 0.21421337],\n",
       "        [ 0.09273478],\n",
       "        [ 0.4113373 ],\n",
       "        [-0.18139628],\n",
       "        [ 0.68881637],\n",
       "        [ 0.25778845],\n",
       "        [ 0.02635647],\n",
       "        [ 0.22495933],\n",
       "        [-0.13221224],\n",
       "        [-0.02009606],\n",
       "        [ 0.20866369],\n",
       "        [-0.0948481 ],\n",
       "        [-0.00841951],\n",
       "        [ 0.15348585],\n",
       "        [ 0.06496349],\n",
       "        [-0.15345882],\n",
       "        [-0.23415606],\n",
       "        [-0.00406016],\n",
       "        [ 0.02574887],\n",
       "        [ 0.20710495],\n",
       "        [ 0.24001086],\n",
       "        [-0.1606389 ],\n",
       "        [-0.59224874],\n",
       "        [ 0.25792608],\n",
       "        [-0.15268676],\n",
       "        [-0.5205621 ],\n",
       "        [ 0.12958646]], dtype=float32),\n",
       " array([0.38027686], dtype=float32)]"
      ]
     },
     "execution_count": 19,
     "metadata": {},
     "output_type": "execute_result"
    }
   ],
   "source": [
    "model.get_weights()"
   ]
  },
  {
   "cell_type": "code",
   "execution_count": 20,
   "metadata": {},
   "outputs": [],
   "source": [
    "# Step 2: Helper Functions\n",
    "# Function to decode reviews\n",
    "def decode_review(encoded_review):\n",
    "    return ' '.join([reverse_word_index.get(i - 3, '?') for i in encoded_review])\n",
    "\n",
    "# Function to preprocess user input\n",
    "def preprocess_text(text):\n",
    "    words = text.lower().split()\n",
    "    encoded_review = [word_index.get(word, 2) + 3 for word in words]\n",
    "    padded_review = sequence.pad_sequences([encoded_review], maxlen=500)\n",
    "    return padded_review"
   ]
  },
  {
   "cell_type": "code",
   "execution_count": 21,
   "metadata": {},
   "outputs": [],
   "source": [
    "### Prediction  function\n",
    "\n",
    "def predict_sentiment(review):\n",
    "    preprocessed_input=preprocess_text(review)\n",
    "\n",
    "    prediction=model.predict(preprocessed_input)\n",
    "\n",
    "    sentiment = 'Positive' if prediction[0][0] > 0.5 else 'Negative'\n",
    "    \n",
    "    return sentiment, prediction[0][0]\n",
    "\n"
   ]
  },
  {
   "cell_type": "code",
   "execution_count": 28,
   "metadata": {},
   "outputs": [
    {
     "name": "stdout",
     "output_type": "stream",
     "text": [
      "\u001b[1m1/1\u001b[0m \u001b[32m━━━━━━━━━━━━━━━━━━━━\u001b[0m\u001b[37m\u001b[0m \u001b[1m0s\u001b[0m 31ms/step\n",
      "Review: This movie was not good! \n",
      "Sentiment: Negative\n",
      "Prediction Score: 0.4563297927379608\n"
     ]
    }
   ],
   "source": [
    "# Step 4: User Input and Prediction\n",
    "# Example review for prediction\n",
    "example_review = \"This movie was not good! \"\n",
    "\n",
    "sentiment,score=predict_sentiment(example_review)\n",
    "\n",
    "print(f'Review: {example_review}')\n",
    "print(f'Sentiment: {sentiment}')\n",
    "print(f'Prediction Score: {score}')"
   ]
  },
  {
   "cell_type": "code",
   "execution_count": null,
   "metadata": {},
   "outputs": [],
   "source": []
  },
  {
   "cell_type": "code",
   "execution_count": null,
   "metadata": {},
   "outputs": [],
   "source": []
  },
  {
   "cell_type": "code",
   "execution_count": null,
   "metadata": {},
   "outputs": [],
   "source": []
  },
  {
   "cell_type": "code",
   "execution_count": null,
   "metadata": {},
   "outputs": [],
   "source": []
  }
 ],
 "metadata": {
  "kernelspec": {
   "display_name": "Python 3",
   "language": "python",
   "name": "python3"
  },
  "language_info": {
   "codemirror_mode": {
    "name": "ipython",
    "version": 3
   },
   "file_extension": ".py",
   "mimetype": "text/x-python",
   "name": "python",
   "nbconvert_exporter": "python",
   "pygments_lexer": "ipython3",
   "version": "3.10.0"
  }
 },
 "nbformat": 4,
 "nbformat_minor": 2
}
